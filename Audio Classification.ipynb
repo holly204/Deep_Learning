{
 "cells": [
  {
   "cell_type": "markdown",
   "id": "73b505a0-46f5-43a7-9794-18874bc3cb56",
   "metadata": {},
   "source": [
    "# Copy data"
   ]
  },
  {
   "cell_type": "code",
   "execution_count": 1,
   "id": "b84a1fbe-4520-466a-8ee2-ccb7898f0653",
   "metadata": {},
   "outputs": [],
   "source": [
    "import json\n",
    "import os\n",
    "import math\n",
    "import librosa\n",
    "import numpy as np"
   ]
  },
  {
   "cell_type": "code",
   "execution_count": 2,
   "id": "6b47ecab-fabc-435a-a47a-55fef80e4a22",
   "metadata": {},
   "outputs": [
    {
     "data": {
      "text/plain": [
       "'/WAVE/users/unix/lhuang2/pr3'"
      ]
     },
     "execution_count": 2,
     "metadata": {},
     "output_type": "execute_result"
    }
   ],
   "source": [
    "import shutil\n",
    "# Define your source and destination paths\n",
    "source_folder = '/WAVE/projects/CSEN-342-Wi24/data/pr3'\n",
    "destination_folder = '/WAVE/users/unix/lhuang2/pr3'\n",
    "\n",
    "shutil.copytree(source_folder, destination_folder)"
   ]
  },
  {
   "cell_type": "markdown",
   "id": "f0e6a2ec-be09-469c-b47f-fe220cadeb16",
   "metadata": {},
   "source": [
    "# Put all audio file into a filefolder"
   ]
  },
  {
   "cell_type": "code",
   "execution_count": 3,
   "id": "81155011-a955-4e15-b3f0-1d3fdaf0daa7",
   "metadata": {},
   "outputs": [],
   "source": [
    "import os\n",
    "import shutil\n",
    "\n",
    "def move_audio(source_folder_path, target_folder_path):\n",
    "    # Ensure the target directory exists, create if it doesn't\n",
    "    os.makedirs(target_folder_path, exist_ok=True)\n",
    "    \n",
    "    # List all .wav files in the source directory\n",
    "    wav_files = [f for f in os.listdir(source_folder_path) if f.endswith('.wav')]\n",
    "    \n",
    "    # Move each .wav file to the target directory\n",
    "    for file_name in wav_files:\n",
    "        # Construct full file paths\n",
    "        source_file_path = os.path.join(source_folder_path, file_name)\n",
    "        target_file_path = os.path.join(target_folder_path, file_name)\n",
    "        \n",
    "        # Move the file\n",
    "        shutil.move(source_file_path, target_file_path)\n",
    "    \n",
    "    print(f'Moved {len(wav_files)} files to {target_folder_path}')"
   ]
  },
  {
   "cell_type": "code",
   "execution_count": 4,
   "id": "d23edf2a-b440-4f65-ac27-fb9878e232db",
   "metadata": {},
   "outputs": [
    {
     "name": "stdout",
     "output_type": "stream",
     "text": [
      "Moved 350 files to /WAVE/users/unix/lhuang2/pr3/train/audio\n"
     ]
    }
   ],
   "source": [
    "# Define the source and target directory paths\n",
    "source_folder_train = '/WAVE/users/unix/lhuang2/pr3/train'\n",
    "target_folder_train = '/WAVE/users/unix/lhuang2/pr3/train/audio'\n",
    "move_audio(source_folder_train, target_folder_train)"
   ]
  },
  {
   "cell_type": "code",
   "execution_count": 5,
   "id": "d025e805-a4f4-49ea-bacd-40ebf67c63b7",
   "metadata": {},
   "outputs": [
    {
     "name": "stdout",
     "output_type": "stream",
     "text": [
      "Moved 75 files to /WAVE/users/unix/lhuang2/pr3/val/audio\n"
     ]
    }
   ],
   "source": [
    "# Define the source and target directory paths\n",
    "source_folder_val = '/WAVE/users/unix/lhuang2/pr3/val'\n",
    "target_folder_val = '/WAVE/users/unix/lhuang2/pr3/val/audio'\n",
    "move_audio(source_folder_val, target_folder_val)"
   ]
  },
  {
   "cell_type": "code",
   "execution_count": 6,
   "id": "47772369-cf8f-4fba-8a53-7bfe82ef8572",
   "metadata": {},
   "outputs": [
    {
     "name": "stdout",
     "output_type": "stream",
     "text": [
      "Moved 75 files to /WAVE/users/unix/lhuang2/pr3/test/audio\n"
     ]
    }
   ],
   "source": [
    "# Define the source and target directory paths\n",
    "source_folder_test = '/WAVE/users/unix/lhuang2/pr3/test'\n",
    "target_folder_test = '/WAVE/users/unix/lhuang2/pr3/test/audio'\n",
    "move_audio(source_folder_test, target_folder_test)"
   ]
  },
  {
   "cell_type": "markdown",
   "id": "18a0a124-e402-41e0-90ab-52de3ba07514",
   "metadata": {},
   "source": [
    "# Extract Features"
   ]
  },
  {
   "cell_type": "code",
   "execution_count": 2,
   "id": "2b6cab8a-afc8-41dc-bc7f-3e840850a82f",
   "metadata": {},
   "outputs": [],
   "source": [
    "def get_features(path, num_segments):\n",
    "    \n",
    "    num_mfcc=13\n",
    "    n_fft=2048\n",
    "    hop_length=512\n",
    "    TRACK_DURATION = 5 # measured in seconds\n",
    "     # make sure sliding down the whole audio \n",
    "    num_mfcc_vectors_per_segment = num_mfcc * num_segments     # 13 * 10 = 130\n",
    "    samples_per_segment = num_mfcc_vectors_per_segment * hop_length    # 130 * 512 = 66560\n",
    "    SAMPLES_PER_TRACK = samples_per_segment * num_segments             # 66560 * 10 = 665600\n",
    "    SAMPLE_RATE = int(SAMPLES_PER_TRACK / TRACK_DURATION)              # 665600/5 = 13,312\n",
    "    \n",
    "    mfcc_list = []\n",
    "    audio_path = os.path.join(path, 'audio')\n",
    "    for filename in os.listdir(audio_path):\n",
    "        filepath = os.path.join(audio_path, filename)\n",
    "        signal, sample_rate = librosa.load(filepath, sr=SAMPLE_RATE)\n",
    "                # process all segments of audio file\n",
    "        for d in range(num_segments):\n",
    "            # calculate start and finish sample for current segment\n",
    "            start = samples_per_segment * d\n",
    "            finish = start + samples_per_segment\n",
    "    \n",
    "            # extract mfcc\n",
    "            mfcc = librosa.feature.mfcc(y=signal[start:finish], sr=sample_rate, n_mfcc=num_mfcc, n_fft=n_fft, hop_length=hop_length)\n",
    "            mfcc = mfcc.T\n",
    "            mfcc_list.append(mfcc.tolist())\n",
    "            X = np.array(mfcc_list)\n",
    "    return X\n",
    "    "
   ]
  },
  {
   "cell_type": "markdown",
   "id": "6c6d0ece-c0d7-41a8-9eeb-f26ee8c42ce5",
   "metadata": {},
   "source": [
    "# Read and Convert Labels"
   ]
  },
  {
   "cell_type": "code",
   "execution_count": 3,
   "id": "2b3d377c-eeb1-4f56-a732-3359bbab4640",
   "metadata": {},
   "outputs": [],
   "source": [
    "def get_labels(path, num_segments):\n",
    "    repeated_lines = []\n",
    "    labels_path = os.path.join(path, 'labels.txt')\n",
    "    with open(labels_path, 'r') as file:\n",
    "        for line in file:\n",
    "            clean_line = line.strip()\n",
    "            for _ in range(num_segments):\n",
    "                    repeated_lines.append(int(clean_line)-1)  # start from 0-24\n",
    "    return np.array(repeated_lines)"
   ]
  },
  {
   "cell_type": "code",
   "execution_count": 4,
   "id": "d10d04eb-fae1-4c6e-a010-2ea7306b5f7f",
   "metadata": {},
   "outputs": [],
   "source": [
    "num_segments= 10"
   ]
  },
  {
   "cell_type": "code",
   "execution_count": 5,
   "id": "68072c5c-df22-48a3-a8ce-fcdf364421a6",
   "metadata": {},
   "outputs": [],
   "source": [
    "path_train = '/WAVE/users/unix/lhuang2/pr3/train'"
   ]
  },
  {
   "cell_type": "code",
   "execution_count": 6,
   "id": "d25ab44a-299d-45e9-a2a3-be820de23d50",
   "metadata": {},
   "outputs": [],
   "source": [
    "X_train = get_features(path_train, num_segments)"
   ]
  },
  {
   "cell_type": "code",
   "execution_count": 7,
   "id": "4f1a9923-8e0e-45a3-9c0c-00b3d6b2913b",
   "metadata": {},
   "outputs": [],
   "source": [
    "y_train = get_labels(path_train, num_segments)"
   ]
  },
  {
   "cell_type": "code",
   "execution_count": 8,
   "id": "f8f419c8-7c12-4d0d-8833-639b4c3475f1",
   "metadata": {},
   "outputs": [],
   "source": [
    "path_val = '/WAVE/users/unix/lhuang2/pr3/val'"
   ]
  },
  {
   "cell_type": "code",
   "execution_count": 9,
   "id": "0e7fc7e5-8495-4862-a4cd-f7e2b518e9a6",
   "metadata": {},
   "outputs": [],
   "source": [
    "X_val = get_features(path_val, num_segments)"
   ]
  },
  {
   "cell_type": "code",
   "execution_count": 10,
   "id": "300652ee-072e-4e30-b27e-9ba1109e2bd2",
   "metadata": {},
   "outputs": [],
   "source": [
    "y_val = get_labels(path_val, num_segments)"
   ]
  },
  {
   "cell_type": "code",
   "execution_count": 11,
   "id": "47eafa66-18bb-4f54-b60c-4406f3168ac6",
   "metadata": {},
   "outputs": [
    {
     "data": {
      "text/plain": [
       "((3500, 131, 13), (3500,), (750, 131, 13), (750,))"
      ]
     },
     "execution_count": 11,
     "metadata": {},
     "output_type": "execute_result"
    }
   ],
   "source": [
    "X_train.shape, y_train.shape, X_val.shape, y_val.shape"
   ]
  },
  {
   "cell_type": "markdown",
   "id": "cf153178-b05b-44fa-b917-502dfde83ad9",
   "metadata": {},
   "source": [
    "# RNN Model train"
   ]
  },
  {
   "cell_type": "code",
   "execution_count": 12,
   "id": "99956709-a677-4398-86c2-a3517853353d",
   "metadata": {},
   "outputs": [
    {
     "name": "stderr",
     "output_type": "stream",
     "text": [
      "2024-03-05 22:11:06.257050: E external/local_xla/xla/stream_executor/cuda/cuda_dnn.cc:9261] Unable to register cuDNN factory: Attempting to register factory for plugin cuDNN when one has already been registered\n",
      "2024-03-05 22:11:06.257193: E external/local_xla/xla/stream_executor/cuda/cuda_fft.cc:607] Unable to register cuFFT factory: Attempting to register factory for plugin cuFFT when one has already been registered\n",
      "2024-03-05 22:11:06.487201: E external/local_xla/xla/stream_executor/cuda/cuda_blas.cc:1515] Unable to register cuBLAS factory: Attempting to register factory for plugin cuBLAS when one has already been registered\n",
      "2024-03-05 22:11:07.094369: I tensorflow/core/platform/cpu_feature_guard.cc:182] This TensorFlow binary is optimized to use available CPU instructions in performance-critical operations.\n",
      "To enable the following instructions: AVX2 AVX512F FMA, in other operations, rebuild TensorFlow with the appropriate compiler flags.\n",
      "2024-03-05 22:11:10.568009: W tensorflow/compiler/tf2tensorrt/utils/py_utils.cc:38] TF-TRT Warning: Could not find TensorRT\n",
      "2024-03-05 22:11:17.304703: I tensorflow/core/common_runtime/gpu/gpu_device.cc:1929] Created device /job:localhost/replica:0/task:0/device:GPU:0 with 7507 MB memory:  -> device: 0, name: NVIDIA GeForce GTX 1080, pci bus id: 0000:65:00.0, compute capability: 6.1\n"
     ]
    }
   ],
   "source": [
    "from tensorflow.keras.models import Sequential\n",
    "from tensorflow.keras.layers import LSTM, Dense, Dropout, Flatten\n",
    "\n",
    "input_shape = (X_train.shape[1], X_train.shape[2]) # 130, 13\n",
    "model = Sequential()\n",
    "model.add(LSTM(128, return_sequences=True, input_shape=input_shape))\n",
    "model.add(LSTM(128, return_sequences=True))\n",
    "model.add(Dropout(0.5))\n",
    "model.add(Dense(256, activation='relu'))\n",
    "model.add(Dense(128, activation='relu'))\n",
    "model.add(Dense(64, activation='relu'))\n",
    "model.add(Dense(32, activation='relu'))\n",
    "model.add(Flatten())\n",
    "model.add(Dense(25, activation='softmax'))"
   ]
  },
  {
   "cell_type": "code",
   "execution_count": 13,
   "id": "cf321805-e44d-4d92-9dd7-7b3664e0a2d8",
   "metadata": {},
   "outputs": [],
   "source": [
    "# compile model\n",
    "model.compile(optimizer='adam',\n",
    "              loss='sparse_categorical_crossentropy',\n",
    "              metrics=['accuracy'])"
   ]
  },
  {
   "cell_type": "code",
   "execution_count": 14,
   "id": "338d5f2f-0464-47f5-b03d-8917f99e6f90",
   "metadata": {},
   "outputs": [
    {
     "name": "stdout",
     "output_type": "stream",
     "text": [
      "Model: \"sequential\"\n",
      "_________________________________________________________________\n",
      " Layer (type)                Output Shape              Param #   \n",
      "=================================================================\n",
      " lstm (LSTM)                 (None, 131, 128)          72704     \n",
      "                                                                 \n",
      " lstm_1 (LSTM)               (None, 131, 128)          131584    \n",
      "                                                                 \n",
      " dropout (Dropout)           (None, 131, 128)          0         \n",
      "                                                                 \n",
      " dense (Dense)               (None, 131, 256)          33024     \n",
      "                                                                 \n",
      " dense_1 (Dense)             (None, 131, 128)          32896     \n",
      "                                                                 \n",
      " dense_2 (Dense)             (None, 131, 64)           8256      \n",
      "                                                                 \n",
      " dense_3 (Dense)             (None, 131, 32)           2080      \n",
      "                                                                 \n",
      " flatten (Flatten)           (None, 4192)              0         \n",
      "                                                                 \n",
      " dense_4 (Dense)             (None, 25)                104825    \n",
      "                                                                 \n",
      "=================================================================\n",
      "Total params: 385369 (1.47 MB)\n",
      "Trainable params: 385369 (1.47 MB)\n",
      "Non-trainable params: 0 (0.00 Byte)\n",
      "_________________________________________________________________\n"
     ]
    }
   ],
   "source": [
    "model.summary()"
   ]
  },
  {
   "cell_type": "code",
   "execution_count": 15,
   "id": "ecc03bac-3215-4b78-a962-19d377b6c342",
   "metadata": {},
   "outputs": [
    {
     "name": "stdout",
     "output_type": "stream",
     "text": [
      "Epoch 1/100\n"
     ]
    },
    {
     "name": "stderr",
     "output_type": "stream",
     "text": [
      "2024-03-05 22:11:39.451081: I external/local_xla/xla/stream_executor/cuda/cuda_dnn.cc:454] Loaded cuDNN version 8902\n",
      "2024-03-05 22:11:40.749278: I external/local_xla/xla/service/service.cc:168] XLA service 0x7f38fc04aa00 initialized for platform CUDA (this does not guarantee that XLA will be used). Devices:\n",
      "2024-03-05 22:11:40.749313: I external/local_xla/xla/service/service.cc:176]   StreamExecutor device (0): NVIDIA GeForce GTX 1080, Compute Capability 6.1\n",
      "2024-03-05 22:11:40.791723: I tensorflow/compiler/mlir/tensorflow/utils/dump_mlir_util.cc:269] disabling MLIR crash reproducer, set env var `MLIR_CRASH_REPRODUCER_DIRECTORY` to enable.\n",
      "WARNING: All log messages before absl::InitializeLog() is called are written to STDERR\n",
      "I0000 00:00:1709705500.919286 3820744 device_compiler.h:186] Compiled cluster using XLA!  This line is logged at most once for the lifetime of the process.\n"
     ]
    },
    {
     "name": "stdout",
     "output_type": "stream",
     "text": [
      "110/110 [==============================] - 7s 21ms/step - loss: 2.5538 - accuracy: 0.2083 - val_loss: 2.2863 - val_accuracy: 0.2867\n",
      "Epoch 2/100\n",
      "110/110 [==============================] - 1s 13ms/step - loss: 1.8684 - accuracy: 0.3934 - val_loss: 2.3455 - val_accuracy: 0.3280\n",
      "Epoch 3/100\n",
      "110/110 [==============================] - 1s 13ms/step - loss: 1.5809 - accuracy: 0.4866 - val_loss: 2.1686 - val_accuracy: 0.3360\n",
      "Epoch 4/100\n",
      "110/110 [==============================] - 1s 13ms/step - loss: 1.3818 - accuracy: 0.5497 - val_loss: 2.4139 - val_accuracy: 0.3653\n",
      "Epoch 5/100\n",
      "110/110 [==============================] - 1s 13ms/step - loss: 1.1937 - accuracy: 0.6111 - val_loss: 2.7100 - val_accuracy: 0.3453\n",
      "Epoch 6/100\n",
      "110/110 [==============================] - 1s 13ms/step - loss: 1.1112 - accuracy: 0.6354 - val_loss: 2.5188 - val_accuracy: 0.3947\n",
      "Epoch 7/100\n",
      "110/110 [==============================] - 1s 13ms/step - loss: 0.9424 - accuracy: 0.6989 - val_loss: 2.6420 - val_accuracy: 0.3813\n",
      "Epoch 8/100\n",
      "110/110 [==============================] - 1s 13ms/step - loss: 0.8656 - accuracy: 0.7117 - val_loss: 3.1101 - val_accuracy: 0.3493\n",
      "Epoch 9/100\n",
      "110/110 [==============================] - 1s 13ms/step - loss: 0.8362 - accuracy: 0.7200 - val_loss: 2.9632 - val_accuracy: 0.4067\n",
      "Epoch 10/100\n",
      "110/110 [==============================] - 1s 13ms/step - loss: 0.7840 - accuracy: 0.7366 - val_loss: 3.1483 - val_accuracy: 0.3787\n",
      "Epoch 11/100\n",
      "110/110 [==============================] - 1s 13ms/step - loss: 0.6985 - accuracy: 0.7657 - val_loss: 2.9694 - val_accuracy: 0.3853\n",
      "Epoch 12/100\n",
      "110/110 [==============================] - 1s 13ms/step - loss: 0.6876 - accuracy: 0.7720 - val_loss: 2.7711 - val_accuracy: 0.4093\n",
      "Epoch 13/100\n",
      "110/110 [==============================] - 1s 13ms/step - loss: 0.6165 - accuracy: 0.7934 - val_loss: 3.3732 - val_accuracy: 0.4053\n",
      "Epoch 14/100\n",
      "110/110 [==============================] - 1s 13ms/step - loss: 0.5993 - accuracy: 0.8026 - val_loss: 3.4747 - val_accuracy: 0.3867\n",
      "Epoch 15/100\n",
      "110/110 [==============================] - 1s 13ms/step - loss: 0.5315 - accuracy: 0.8206 - val_loss: 4.0144 - val_accuracy: 0.3840\n",
      "Epoch 16/100\n",
      "110/110 [==============================] - 1s 13ms/step - loss: 0.5515 - accuracy: 0.8143 - val_loss: 3.4873 - val_accuracy: 0.3880\n",
      "Epoch 17/100\n",
      "110/110 [==============================] - 1s 13ms/step - loss: 0.4954 - accuracy: 0.8391 - val_loss: 3.6921 - val_accuracy: 0.3813\n",
      "Epoch 18/100\n",
      "110/110 [==============================] - 1s 13ms/step - loss: 0.4824 - accuracy: 0.8369 - val_loss: 4.4057 - val_accuracy: 0.3733\n",
      "Epoch 19/100\n",
      "110/110 [==============================] - 1s 13ms/step - loss: 0.4293 - accuracy: 0.8557 - val_loss: 4.7226 - val_accuracy: 0.3667\n",
      "Epoch 20/100\n",
      "110/110 [==============================] - 1s 13ms/step - loss: 0.3947 - accuracy: 0.8686 - val_loss: 4.0542 - val_accuracy: 0.3653\n",
      "Epoch 21/100\n",
      "110/110 [==============================] - 1s 13ms/step - loss: 0.4493 - accuracy: 0.8497 - val_loss: 4.9347 - val_accuracy: 0.3427\n",
      "Epoch 22/100\n",
      "110/110 [==============================] - 1s 13ms/step - loss: 0.4120 - accuracy: 0.8589 - val_loss: 4.5174 - val_accuracy: 0.3533\n",
      "Epoch 23/100\n",
      "110/110 [==============================] - 1s 13ms/step - loss: 0.3716 - accuracy: 0.8706 - val_loss: 5.2205 - val_accuracy: 0.3573\n",
      "Epoch 24/100\n",
      "110/110 [==============================] - 1s 13ms/step - loss: 0.3827 - accuracy: 0.8751 - val_loss: 5.3078 - val_accuracy: 0.3573\n",
      "Epoch 25/100\n",
      "110/110 [==============================] - 1s 13ms/step - loss: 0.3032 - accuracy: 0.8949 - val_loss: 5.5997 - val_accuracy: 0.3787\n",
      "Epoch 26/100\n",
      "110/110 [==============================] - 1s 13ms/step - loss: 0.3379 - accuracy: 0.8914 - val_loss: 5.3429 - val_accuracy: 0.4000\n",
      "Epoch 27/100\n",
      "110/110 [==============================] - 1s 13ms/step - loss: 0.3324 - accuracy: 0.8877 - val_loss: 4.8403 - val_accuracy: 0.3933\n",
      "Epoch 28/100\n",
      "110/110 [==============================] - 1s 13ms/step - loss: 0.3138 - accuracy: 0.8951 - val_loss: 6.1900 - val_accuracy: 0.3973\n",
      "Epoch 29/100\n",
      "110/110 [==============================] - 1s 13ms/step - loss: 0.2920 - accuracy: 0.8991 - val_loss: 5.6248 - val_accuracy: 0.3747\n",
      "Epoch 30/100\n",
      "110/110 [==============================] - 1s 13ms/step - loss: 0.3261 - accuracy: 0.8877 - val_loss: 5.7466 - val_accuracy: 0.3587\n",
      "Epoch 31/100\n",
      "110/110 [==============================] - 1s 13ms/step - loss: 0.3056 - accuracy: 0.9000 - val_loss: 5.8983 - val_accuracy: 0.3840\n",
      "Epoch 32/100\n",
      "110/110 [==============================] - 1s 13ms/step - loss: 0.3345 - accuracy: 0.8863 - val_loss: 5.3462 - val_accuracy: 0.3867\n",
      "Epoch 33/100\n",
      "110/110 [==============================] - 1s 13ms/step - loss: 0.2465 - accuracy: 0.9154 - val_loss: 6.1696 - val_accuracy: 0.3960\n",
      "Epoch 34/100\n",
      "110/110 [==============================] - 1s 13ms/step - loss: 0.3139 - accuracy: 0.8900 - val_loss: 5.5200 - val_accuracy: 0.3547\n",
      "Epoch 35/100\n",
      "110/110 [==============================] - 1s 13ms/step - loss: 0.2644 - accuracy: 0.9100 - val_loss: 6.0871 - val_accuracy: 0.3587\n",
      "Epoch 36/100\n",
      "110/110 [==============================] - 1s 13ms/step - loss: 0.2496 - accuracy: 0.9154 - val_loss: 6.8740 - val_accuracy: 0.3680\n",
      "Epoch 37/100\n",
      "110/110 [==============================] - 1s 13ms/step - loss: 0.2757 - accuracy: 0.9071 - val_loss: 5.9981 - val_accuracy: 0.3853\n",
      "Epoch 38/100\n",
      "110/110 [==============================] - 1s 13ms/step - loss: 0.2595 - accuracy: 0.9123 - val_loss: 5.9028 - val_accuracy: 0.3707\n",
      "Epoch 39/100\n",
      "110/110 [==============================] - 1s 13ms/step - loss: 0.2127 - accuracy: 0.9274 - val_loss: 6.3644 - val_accuracy: 0.4053\n",
      "Epoch 40/100\n",
      "110/110 [==============================] - 1s 13ms/step - loss: 0.2557 - accuracy: 0.9163 - val_loss: 6.6412 - val_accuracy: 0.3587\n",
      "Epoch 41/100\n",
      "110/110 [==============================] - 1s 13ms/step - loss: 0.2671 - accuracy: 0.9071 - val_loss: 5.6313 - val_accuracy: 0.3627\n",
      "Epoch 42/100\n",
      "110/110 [==============================] - 1s 13ms/step - loss: 0.2547 - accuracy: 0.9106 - val_loss: 6.0627 - val_accuracy: 0.3867\n",
      "Epoch 43/100\n",
      "110/110 [==============================] - 1s 13ms/step - loss: 0.2255 - accuracy: 0.9251 - val_loss: 6.4546 - val_accuracy: 0.3853\n",
      "Epoch 44/100\n",
      "110/110 [==============================] - 1s 13ms/step - loss: 0.2471 - accuracy: 0.9180 - val_loss: 6.0338 - val_accuracy: 0.3800\n",
      "Epoch 45/100\n",
      "110/110 [==============================] - 1s 13ms/step - loss: 0.2902 - accuracy: 0.9057 - val_loss: 5.5093 - val_accuracy: 0.3453\n",
      "Epoch 46/100\n",
      "110/110 [==============================] - 1s 13ms/step - loss: 0.2367 - accuracy: 0.9234 - val_loss: 7.2076 - val_accuracy: 0.3507\n",
      "Epoch 47/100\n",
      "110/110 [==============================] - 1s 13ms/step - loss: 0.1823 - accuracy: 0.9400 - val_loss: 6.2114 - val_accuracy: 0.3653\n",
      "Epoch 48/100\n",
      "110/110 [==============================] - 1s 13ms/step - loss: 0.1732 - accuracy: 0.9420 - val_loss: 6.4170 - val_accuracy: 0.3773\n",
      "Epoch 49/100\n",
      "110/110 [==============================] - 1s 13ms/step - loss: 0.1771 - accuracy: 0.9420 - val_loss: 6.7145 - val_accuracy: 0.3773\n",
      "Epoch 50/100\n",
      "110/110 [==============================] - 1s 13ms/step - loss: 0.3058 - accuracy: 0.9043 - val_loss: 6.1198 - val_accuracy: 0.3467\n",
      "Epoch 51/100\n",
      "110/110 [==============================] - 1s 13ms/step - loss: 0.2402 - accuracy: 0.9169 - val_loss: 6.0713 - val_accuracy: 0.3653\n",
      "Epoch 52/100\n",
      "110/110 [==============================] - 1s 13ms/step - loss: 0.1765 - accuracy: 0.9377 - val_loss: 6.7211 - val_accuracy: 0.3813\n",
      "Epoch 53/100\n",
      "110/110 [==============================] - 1s 13ms/step - loss: 0.2073 - accuracy: 0.9300 - val_loss: 6.2315 - val_accuracy: 0.3707\n",
      "Epoch 54/100\n",
      "110/110 [==============================] - 1s 13ms/step - loss: 0.2802 - accuracy: 0.9097 - val_loss: 6.7741 - val_accuracy: 0.4200\n",
      "Epoch 55/100\n",
      "110/110 [==============================] - 1s 13ms/step - loss: 0.1735 - accuracy: 0.9406 - val_loss: 7.4803 - val_accuracy: 0.4000\n",
      "Epoch 56/100\n",
      "110/110 [==============================] - 1s 13ms/step - loss: 0.2227 - accuracy: 0.9271 - val_loss: 7.4454 - val_accuracy: 0.3467\n",
      "Epoch 57/100\n",
      "110/110 [==============================] - 1s 13ms/step - loss: 0.2406 - accuracy: 0.9223 - val_loss: 6.9616 - val_accuracy: 0.3880\n",
      "Epoch 58/100\n",
      "110/110 [==============================] - 1s 13ms/step - loss: 0.2016 - accuracy: 0.9311 - val_loss: 7.8418 - val_accuracy: 0.3973\n",
      "Epoch 59/100\n",
      "110/110 [==============================] - 1s 13ms/step - loss: 0.1505 - accuracy: 0.9474 - val_loss: 8.0799 - val_accuracy: 0.4000\n",
      "Epoch 60/100\n",
      "110/110 [==============================] - 1s 13ms/step - loss: 0.1560 - accuracy: 0.9451 - val_loss: 8.1045 - val_accuracy: 0.3787\n",
      "Epoch 61/100\n",
      "110/110 [==============================] - 1s 13ms/step - loss: 0.2483 - accuracy: 0.9200 - val_loss: 6.4930 - val_accuracy: 0.4040\n",
      "Epoch 62/100\n",
      "110/110 [==============================] - 1s 13ms/step - loss: 0.2036 - accuracy: 0.9326 - val_loss: 6.9437 - val_accuracy: 0.3693\n",
      "Epoch 63/100\n",
      "110/110 [==============================] - 1s 13ms/step - loss: 0.1837 - accuracy: 0.9386 - val_loss: 7.3809 - val_accuracy: 0.3853\n",
      "Epoch 64/100\n",
      "110/110 [==============================] - 1s 13ms/step - loss: 0.1997 - accuracy: 0.9346 - val_loss: 6.9732 - val_accuracy: 0.3907\n",
      "Epoch 65/100\n",
      "110/110 [==============================] - 1s 13ms/step - loss: 0.1959 - accuracy: 0.9354 - val_loss: 7.9969 - val_accuracy: 0.3573\n",
      "Epoch 66/100\n",
      "110/110 [==============================] - 1s 13ms/step - loss: 0.2304 - accuracy: 0.9223 - val_loss: 7.0417 - val_accuracy: 0.3707\n",
      "Epoch 67/100\n",
      "110/110 [==============================] - 1s 13ms/step - loss: 0.1695 - accuracy: 0.9403 - val_loss: 7.4702 - val_accuracy: 0.3813\n",
      "Epoch 68/100\n",
      "110/110 [==============================] - 1s 13ms/step - loss: 0.1548 - accuracy: 0.9503 - val_loss: 7.5020 - val_accuracy: 0.3640\n",
      "Epoch 69/100\n",
      "110/110 [==============================] - 1s 13ms/step - loss: 0.1734 - accuracy: 0.9426 - val_loss: 8.1196 - val_accuracy: 0.4000\n",
      "Epoch 70/100\n",
      "110/110 [==============================] - 1s 13ms/step - loss: 0.1835 - accuracy: 0.9391 - val_loss: 7.3074 - val_accuracy: 0.3480\n",
      "Epoch 71/100\n",
      "110/110 [==============================] - 1s 13ms/step - loss: 0.2399 - accuracy: 0.9246 - val_loss: 6.6245 - val_accuracy: 0.3853\n",
      "Epoch 72/100\n",
      "110/110 [==============================] - 1s 13ms/step - loss: 0.1915 - accuracy: 0.9366 - val_loss: 6.6758 - val_accuracy: 0.3827\n",
      "Epoch 73/100\n",
      "110/110 [==============================] - 1s 13ms/step - loss: 0.1342 - accuracy: 0.9529 - val_loss: 8.0791 - val_accuracy: 0.3787\n",
      "Epoch 74/100\n",
      "110/110 [==============================] - 1s 13ms/step - loss: 0.1433 - accuracy: 0.9497 - val_loss: 8.7392 - val_accuracy: 0.3493\n",
      "Epoch 75/100\n",
      "110/110 [==============================] - 1s 13ms/step - loss: 0.2135 - accuracy: 0.9309 - val_loss: 6.4508 - val_accuracy: 0.3707\n",
      "Epoch 76/100\n",
      "110/110 [==============================] - 1s 13ms/step - loss: 0.1689 - accuracy: 0.9446 - val_loss: 6.8549 - val_accuracy: 0.3507\n",
      "Epoch 77/100\n",
      "110/110 [==============================] - 1s 13ms/step - loss: 0.3305 - accuracy: 0.9023 - val_loss: 5.8051 - val_accuracy: 0.3707\n",
      "Epoch 78/100\n",
      "110/110 [==============================] - 1s 13ms/step - loss: 0.1722 - accuracy: 0.9411 - val_loss: 7.1824 - val_accuracy: 0.3613\n",
      "Epoch 79/100\n",
      "110/110 [==============================] - 1s 13ms/step - loss: 0.1603 - accuracy: 0.9503 - val_loss: 7.1079 - val_accuracy: 0.3587\n",
      "Epoch 80/100\n",
      "110/110 [==============================] - 1s 13ms/step - loss: 0.1774 - accuracy: 0.9386 - val_loss: 7.2804 - val_accuracy: 0.3920\n",
      "Epoch 81/100\n",
      "110/110 [==============================] - 1s 13ms/step - loss: 0.1440 - accuracy: 0.9477 - val_loss: 7.4317 - val_accuracy: 0.3507\n",
      "Epoch 82/100\n",
      "110/110 [==============================] - 1s 13ms/step - loss: 0.1948 - accuracy: 0.9374 - val_loss: 6.8241 - val_accuracy: 0.3627\n",
      "Epoch 83/100\n",
      "110/110 [==============================] - 1s 13ms/step - loss: 0.2356 - accuracy: 0.9277 - val_loss: 6.0907 - val_accuracy: 0.3933\n",
      "Epoch 84/100\n",
      "110/110 [==============================] - 1s 13ms/step - loss: 0.1731 - accuracy: 0.9394 - val_loss: 7.1139 - val_accuracy: 0.3533\n",
      "Epoch 85/100\n",
      "110/110 [==============================] - 1s 13ms/step - loss: 0.2096 - accuracy: 0.9317 - val_loss: 6.9624 - val_accuracy: 0.3800\n",
      "Epoch 86/100\n",
      "110/110 [==============================] - 1s 13ms/step - loss: 0.1301 - accuracy: 0.9517 - val_loss: 7.8827 - val_accuracy: 0.3787\n",
      "Epoch 87/100\n",
      "110/110 [==============================] - 1s 13ms/step - loss: 0.1610 - accuracy: 0.9431 - val_loss: 8.1348 - val_accuracy: 0.3787\n",
      "Epoch 88/100\n",
      "110/110 [==============================] - 1s 13ms/step - loss: 0.1650 - accuracy: 0.9434 - val_loss: 7.4000 - val_accuracy: 0.3867\n",
      "Epoch 89/100\n",
      "110/110 [==============================] - 1s 13ms/step - loss: 0.2120 - accuracy: 0.9294 - val_loss: 5.6467 - val_accuracy: 0.4133\n",
      "Epoch 90/100\n",
      "110/110 [==============================] - 1s 13ms/step - loss: 0.2079 - accuracy: 0.9317 - val_loss: 6.9645 - val_accuracy: 0.3747\n",
      "Epoch 91/100\n",
      "110/110 [==============================] - 1s 13ms/step - loss: 0.1710 - accuracy: 0.9446 - val_loss: 7.1742 - val_accuracy: 0.3947\n",
      "Epoch 92/100\n",
      "110/110 [==============================] - 1s 13ms/step - loss: 0.1531 - accuracy: 0.9500 - val_loss: 7.5621 - val_accuracy: 0.3787\n",
      "Epoch 93/100\n",
      "110/110 [==============================] - 1s 13ms/step - loss: 0.1499 - accuracy: 0.9469 - val_loss: 7.8986 - val_accuracy: 0.3840\n",
      "Epoch 94/100\n",
      "110/110 [==============================] - 1s 13ms/step - loss: 0.1316 - accuracy: 0.9546 - val_loss: 8.1526 - val_accuracy: 0.4013\n",
      "Epoch 95/100\n",
      "110/110 [==============================] - 1s 13ms/step - loss: 0.1499 - accuracy: 0.9491 - val_loss: 7.0903 - val_accuracy: 0.3987\n",
      "Epoch 96/100\n",
      "110/110 [==============================] - 1s 13ms/step - loss: 0.2170 - accuracy: 0.9331 - val_loss: 6.8573 - val_accuracy: 0.3613\n",
      "Epoch 97/100\n",
      "110/110 [==============================] - 1s 13ms/step - loss: 0.1613 - accuracy: 0.9443 - val_loss: 8.1913 - val_accuracy: 0.4027\n",
      "Epoch 98/100\n",
      "110/110 [==============================] - 1s 13ms/step - loss: 0.1563 - accuracy: 0.9454 - val_loss: 7.9775 - val_accuracy: 0.4027\n",
      "Epoch 99/100\n",
      "110/110 [==============================] - 1s 13ms/step - loss: 0.1668 - accuracy: 0.9463 - val_loss: 7.3836 - val_accuracy: 0.4160\n",
      "Epoch 100/100\n",
      "110/110 [==============================] - 1s 13ms/step - loss: 0.1405 - accuracy: 0.9506 - val_loss: 6.9153 - val_accuracy: 0.4027\n"
     ]
    }
   ],
   "source": [
    "# train model\n",
    "history = model.fit(X_train, y_train, validation_data=(X_val, y_val), batch_size=32, epochs=100)"
   ]
  },
  {
   "cell_type": "markdown",
   "id": "2e19dcaa-b284-416e-bdec-b8b1353c574c",
   "metadata": {},
   "source": [
    "# Predict for Test data"
   ]
  },
  {
   "cell_type": "code",
   "execution_count": 16,
   "id": "4c3dc05d-ba83-428a-beae-cfc6f7aba31a",
   "metadata": {},
   "outputs": [],
   "source": [
    "path_test = '/WAVE/users/unix/lhuang2/pr3/test'"
   ]
  },
  {
   "cell_type": "code",
   "execution_count": 17,
   "id": "16d04e88-b67f-473e-ac00-cb6e2d6fe549",
   "metadata": {},
   "outputs": [],
   "source": [
    "X_test = get_features(path_test, num_segments)"
   ]
  },
  {
   "cell_type": "code",
   "execution_count": 18,
   "id": "a000224f-7444-4f57-9513-e18cb93b5afd",
   "metadata": {},
   "outputs": [
    {
     "data": {
      "text/plain": [
       "(750, 131, 13)"
      ]
     },
     "execution_count": 18,
     "metadata": {},
     "output_type": "execute_result"
    }
   ],
   "source": [
    "X_test.shape"
   ]
  },
  {
   "cell_type": "code",
   "execution_count": 19,
   "id": "d756a936-d751-42ba-802a-a5fcfe034f9f",
   "metadata": {},
   "outputs": [
    {
     "name": "stdout",
     "output_type": "stream",
     "text": [
      "24/24 [==============================] - 1s 6ms/step\n"
     ]
    }
   ],
   "source": [
    "prediction = model.predict(X_test)"
   ]
  },
  {
   "cell_type": "code",
   "execution_count": 20,
   "id": "cdb41abf-3bb2-4976-87dd-ee9a0765633c",
   "metadata": {},
   "outputs": [
    {
     "name": "stdout",
     "output_type": "stream",
     "text": [
      "24/24 [==============================] - 0s 6ms/step\n"
     ]
    }
   ],
   "source": [
    "pred=np.argmax(model.predict(X_test),axis=1)"
   ]
  },
  {
   "cell_type": "code",
   "execution_count": 21,
   "id": "bfe31373-7711-449b-a5a7-53fa47fe3da5",
   "metadata": {},
   "outputs": [],
   "source": [
    "from collections import Counter\n",
    "def most_frequency(numbers):\n",
    "\n",
    "    # Use Counter to count occurrences of each number\n",
    "    number_counts = Counter(numbers)\n",
    "    \n",
    "    # Find the most common number\n",
    "    most_common_number = number_counts.most_common(1)[0][0]\n",
    "    return most_common_number\n"
   ]
  },
  {
   "cell_type": "code",
   "execution_count": 22,
   "id": "b9b64b81-3f0f-4f49-b9f0-c300ca0d08ed",
   "metadata": {},
   "outputs": [],
   "source": [
    "# Initialize an empty list to hold the chunks\n",
    "chunks = []\n",
    "# The size of each chunk\n",
    "chunk_size = 10\n",
    "# Create chunks\n",
    "for i in range(0, len(pred), chunk_size):\n",
    "    chunk = pred[i:i + chunk_size]\n",
    "    chunks.append(chunk)\n",
    "# Now, 'chunks' contains 35 smaller lists, each with 10 numbers\n",
    "#print(chunks)"
   ]
  },
  {
   "cell_type": "code",
   "execution_count": 23,
   "id": "3a851d55-297f-4f4e-b3a5-14150924f079",
   "metadata": {},
   "outputs": [],
   "source": [
    "test_label = []\n",
    "for chunk in chunks:\n",
    "    label = most_frequency(chunk)+1\n",
    "    test_label.append(label)\n"
   ]
  },
  {
   "cell_type": "code",
   "execution_count": 24,
   "id": "1303f834-4107-4a9f-a03a-3111c28e903b",
   "metadata": {},
   "outputs": [
    {
     "name": "stdout",
     "output_type": "stream",
     "text": [
      "75\n"
     ]
    }
   ],
   "source": [
    "print(len(test_label))"
   ]
  },
  {
   "cell_type": "code",
   "execution_count": 25,
   "id": "69463e66-077f-4c16-9541-4cf0dddf23c7",
   "metadata": {},
   "outputs": [],
   "source": [
    "f=open('/WAVE/users/unix/lhuang2/pr3/test/labels.txt','w')\n",
    "for i in test_label:\n",
    "    f.write(str(i)+'\\n')\n",
    "f.close()"
   ]
  },
  {
   "cell_type": "code",
   "execution_count": null,
   "id": "6affa408-9ed9-41ce-9657-f578f92d4e92",
   "metadata": {},
   "outputs": [],
   "source": []
  }
 ],
 "metadata": {
  "kernelspec": {
   "display_name": "Python 3 (ipykernel)",
   "language": "python",
   "name": "python3"
  },
  "language_info": {
   "codemirror_mode": {
    "name": "ipython",
    "version": 3
   },
   "file_extension": ".py",
   "mimetype": "text/x-python",
   "name": "python",
   "nbconvert_exporter": "python",
   "pygments_lexer": "ipython3",
   "version": "3.9.18"
  }
 },
 "nbformat": 4,
 "nbformat_minor": 5
}
